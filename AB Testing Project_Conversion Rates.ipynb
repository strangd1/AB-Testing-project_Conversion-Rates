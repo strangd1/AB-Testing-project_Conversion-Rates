{
 "cells": [
  {
   "cell_type": "code",
   "execution_count": 3,
   "metadata": {},
   "outputs": [],
   "source": [
    "import pandas as pd \n",
    "import matplotlib.pyplot as plt\n",
    "%matplotlib inline\n",
    "from matplotlib.dates import DateFormatter\n",
    "import seaborn as sns\n",
    "import pandas as pd\n",
    "import statsmodels.api as sm\n",
    "import numpy as np\n",
    "\n",
    "df = pd.read_csv(r\"C:\\Users\\stran\\Documents\\Data Science Projects\\Marketing Analytics\\AB Testing\\ab_data.csv\")"
   ]
  },
  {
   "cell_type": "code",
   "execution_count": 4,
   "metadata": {},
   "outputs": [
    {
     "name": "stdout",
     "output_type": "stream",
     "text": [
      "        user_id timestamp      group landing_page  converted\n",
      "0        851104   11:48.6    control     old_page          0\n",
      "1        804228   01:45.2    control     old_page          0\n",
      "2        661590   55:06.2  treatment     new_page          0\n",
      "3        853541   28:03.1  treatment     new_page          0\n",
      "4        864975   52:26.2    control     old_page          1\n",
      "...         ...       ...        ...          ...        ...\n",
      "294473   751197   28:38.6    control     old_page          0\n",
      "294474   945152   51:57.1    control     old_page          0\n",
      "294475   734608   45:03.4    control     old_page          0\n",
      "294476   697314   20:29.0    control     old_page          0\n",
      "294477   715931   40:24.5  treatment     new_page          0\n",
      "\n",
      "[294478 rows x 5 columns]\n"
     ]
    },
    {
     "data": {
      "text/html": [
       "<div>\n",
       "<style scoped>\n",
       "    .dataframe tbody tr th:only-of-type {\n",
       "        vertical-align: middle;\n",
       "    }\n",
       "\n",
       "    .dataframe tbody tr th {\n",
       "        vertical-align: top;\n",
       "    }\n",
       "\n",
       "    .dataframe thead th {\n",
       "        text-align: right;\n",
       "    }\n",
       "</style>\n",
       "<table border=\"1\" class=\"dataframe\">\n",
       "  <thead>\n",
       "    <tr style=\"text-align: right;\">\n",
       "      <th></th>\n",
       "      <th>user_id</th>\n",
       "      <th>timestamp</th>\n",
       "      <th>group</th>\n",
       "      <th>landing_page</th>\n",
       "      <th>converted</th>\n",
       "    </tr>\n",
       "  </thead>\n",
       "  <tbody>\n",
       "    <tr>\n",
       "      <td>0</td>\n",
       "      <td>851104</td>\n",
       "      <td>11:48.6</td>\n",
       "      <td>control</td>\n",
       "      <td>old_page</td>\n",
       "      <td>0</td>\n",
       "    </tr>\n",
       "    <tr>\n",
       "      <td>1</td>\n",
       "      <td>804228</td>\n",
       "      <td>01:45.2</td>\n",
       "      <td>control</td>\n",
       "      <td>old_page</td>\n",
       "      <td>0</td>\n",
       "    </tr>\n",
       "    <tr>\n",
       "      <td>2</td>\n",
       "      <td>661590</td>\n",
       "      <td>55:06.2</td>\n",
       "      <td>treatment</td>\n",
       "      <td>new_page</td>\n",
       "      <td>0</td>\n",
       "    </tr>\n",
       "    <tr>\n",
       "      <td>3</td>\n",
       "      <td>853541</td>\n",
       "      <td>28:03.1</td>\n",
       "      <td>treatment</td>\n",
       "      <td>new_page</td>\n",
       "      <td>0</td>\n",
       "    </tr>\n",
       "    <tr>\n",
       "      <td>4</td>\n",
       "      <td>864975</td>\n",
       "      <td>52:26.2</td>\n",
       "      <td>control</td>\n",
       "      <td>old_page</td>\n",
       "      <td>1</td>\n",
       "    </tr>\n",
       "  </tbody>\n",
       "</table>\n",
       "</div>"
      ],
      "text/plain": [
       "   user_id timestamp      group landing_page  converted\n",
       "0   851104   11:48.6    control     old_page          0\n",
       "1   804228   01:45.2    control     old_page          0\n",
       "2   661590   55:06.2  treatment     new_page          0\n",
       "3   853541   28:03.1  treatment     new_page          0\n",
       "4   864975   52:26.2    control     old_page          1"
      ]
     },
     "execution_count": 4,
     "metadata": {},
     "output_type": "execute_result"
    }
   ],
   "source": [
    "print(df)\n",
    "df.head()"
   ]
  },
  {
   "cell_type": "markdown",
   "metadata": {},
   "source": [
    "Result: Establish a KPI, in this case conversion rate "
   ]
  },
  {
   "cell_type": "code",
   "execution_count": 5,
   "metadata": {},
   "outputs": [],
   "source": [
    "df_control = df[df['group'] == 'control']\n",
    "df_treat = df[df['group'] == 'treatment']"
   ]
  },
  {
   "cell_type": "code",
   "execution_count": 6,
   "metadata": {},
   "outputs": [
    {
     "data": {
      "text/html": [
       "<div>\n",
       "<style scoped>\n",
       "    .dataframe tbody tr th:only-of-type {\n",
       "        vertical-align: middle;\n",
       "    }\n",
       "\n",
       "    .dataframe tbody tr th {\n",
       "        vertical-align: top;\n",
       "    }\n",
       "\n",
       "    .dataframe thead th {\n",
       "        text-align: right;\n",
       "    }\n",
       "</style>\n",
       "<table border=\"1\" class=\"dataframe\">\n",
       "  <thead>\n",
       "    <tr style=\"text-align: right;\">\n",
       "      <th></th>\n",
       "      <th>user_id</th>\n",
       "      <th>timestamp</th>\n",
       "      <th>group</th>\n",
       "      <th>landing_page</th>\n",
       "      <th>converted</th>\n",
       "    </tr>\n",
       "  </thead>\n",
       "  <tbody>\n",
       "    <tr>\n",
       "      <td>0</td>\n",
       "      <td>851104</td>\n",
       "      <td>11:48.6</td>\n",
       "      <td>control</td>\n",
       "      <td>old_page</td>\n",
       "      <td>0</td>\n",
       "    </tr>\n",
       "    <tr>\n",
       "      <td>1</td>\n",
       "      <td>804228</td>\n",
       "      <td>01:45.2</td>\n",
       "      <td>control</td>\n",
       "      <td>old_page</td>\n",
       "      <td>0</td>\n",
       "    </tr>\n",
       "    <tr>\n",
       "      <td>4</td>\n",
       "      <td>864975</td>\n",
       "      <td>52:26.2</td>\n",
       "      <td>control</td>\n",
       "      <td>old_page</td>\n",
       "      <td>1</td>\n",
       "    </tr>\n",
       "    <tr>\n",
       "      <td>5</td>\n",
       "      <td>936923</td>\n",
       "      <td>20:49.1</td>\n",
       "      <td>control</td>\n",
       "      <td>old_page</td>\n",
       "      <td>0</td>\n",
       "    </tr>\n",
       "    <tr>\n",
       "      <td>7</td>\n",
       "      <td>719014</td>\n",
       "      <td>48:29.5</td>\n",
       "      <td>control</td>\n",
       "      <td>old_page</td>\n",
       "      <td>0</td>\n",
       "    </tr>\n",
       "  </tbody>\n",
       "</table>\n",
       "</div>"
      ],
      "text/plain": [
       "   user_id timestamp    group landing_page  converted\n",
       "0   851104   11:48.6  control     old_page          0\n",
       "1   804228   01:45.2  control     old_page          0\n",
       "4   864975   52:26.2  control     old_page          1\n",
       "5   936923   20:49.1  control     old_page          0\n",
       "7   719014   48:29.5  control     old_page          0"
      ]
     },
     "execution_count": 6,
     "metadata": {},
     "output_type": "execute_result"
    }
   ],
   "source": [
    "df_control.head()"
   ]
  },
  {
   "cell_type": "code",
   "execution_count": 7,
   "metadata": {},
   "outputs": [
    {
     "data": {
      "text/html": [
       "<div>\n",
       "<style scoped>\n",
       "    .dataframe tbody tr th:only-of-type {\n",
       "        vertical-align: middle;\n",
       "    }\n",
       "\n",
       "    .dataframe tbody tr th {\n",
       "        vertical-align: top;\n",
       "    }\n",
       "\n",
       "    .dataframe thead th {\n",
       "        text-align: right;\n",
       "    }\n",
       "</style>\n",
       "<table border=\"1\" class=\"dataframe\">\n",
       "  <thead>\n",
       "    <tr style=\"text-align: right;\">\n",
       "      <th></th>\n",
       "      <th>user_id</th>\n",
       "      <th>timestamp</th>\n",
       "      <th>group</th>\n",
       "      <th>landing_page</th>\n",
       "      <th>converted</th>\n",
       "    </tr>\n",
       "  </thead>\n",
       "  <tbody>\n",
       "    <tr>\n",
       "      <td>2</td>\n",
       "      <td>661590</td>\n",
       "      <td>55:06.2</td>\n",
       "      <td>treatment</td>\n",
       "      <td>new_page</td>\n",
       "      <td>0</td>\n",
       "    </tr>\n",
       "    <tr>\n",
       "      <td>3</td>\n",
       "      <td>853541</td>\n",
       "      <td>28:03.1</td>\n",
       "      <td>treatment</td>\n",
       "      <td>new_page</td>\n",
       "      <td>0</td>\n",
       "    </tr>\n",
       "    <tr>\n",
       "      <td>6</td>\n",
       "      <td>679687</td>\n",
       "      <td>26:46.9</td>\n",
       "      <td>treatment</td>\n",
       "      <td>new_page</td>\n",
       "      <td>1</td>\n",
       "    </tr>\n",
       "    <tr>\n",
       "      <td>8</td>\n",
       "      <td>817355</td>\n",
       "      <td>58:09.0</td>\n",
       "      <td>treatment</td>\n",
       "      <td>new_page</td>\n",
       "      <td>1</td>\n",
       "    </tr>\n",
       "    <tr>\n",
       "      <td>9</td>\n",
       "      <td>839785</td>\n",
       "      <td>11:06.6</td>\n",
       "      <td>treatment</td>\n",
       "      <td>new_page</td>\n",
       "      <td>1</td>\n",
       "    </tr>\n",
       "  </tbody>\n",
       "</table>\n",
       "</div>"
      ],
      "text/plain": [
       "   user_id timestamp      group landing_page  converted\n",
       "2   661590   55:06.2  treatment     new_page          0\n",
       "3   853541   28:03.1  treatment     new_page          0\n",
       "6   679687   26:46.9  treatment     new_page          1\n",
       "8   817355   58:09.0  treatment     new_page          1\n",
       "9   839785   11:06.6  treatment     new_page          1"
      ]
     },
     "execution_count": 7,
     "metadata": {},
     "output_type": "execute_result"
    }
   ],
   "source": [
    "df_treat.head()"
   ]
  },
  {
   "cell_type": "code",
   "execution_count": 48,
   "metadata": {},
   "outputs": [
    {
     "name": "stdout",
     "output_type": "stream",
     "text": [
      "           converted   total      rate\n",
      "group                                 \n",
      "control        17723  147202  0.120399\n",
      "treatment      17514  147276  0.118920\n"
     ]
    }
   ],
   "source": [
    "ab_summary = df.pivot_table(values='converted', index='group', aggfunc=np.sum)\n",
    "\n",
    "# add additional columns to the pivot table\n",
    "ab_summary['total'] = df.pivot_table(values='converted', index='group', aggfunc=lambda x: len(x))\n",
    "ab_summary['rate'] = df.pivot_table(values='converted', index='group')\n",
    "\n",
    "print(ab_summary)"
   ]
  },
  {
   "cell_type": "code",
   "execution_count": 56,
   "metadata": {},
   "outputs": [
    {
     "data": {
      "image/png": "[encoded data removed]",
      "text/plain": [
       "<Figure size 432x288 with 1 Axes>"
      ]
     },
     "metadata": {
      "needs_background": "light"
     },
     "output_type": "display_data"
    }
   ],
   "source": [
    "#ab_summary.plot.bar()\n",
    "#plt.show()\n",
    "#ab_summary.(kind='bar', column=['rate'])\n",
    "ab_summary.plot.bar(y='rate')\n",
    "#ab_summary.plot(kind='bar')\n",
    "plt.title('C)')\n",
    "plt.show()"
   ]
  },
  {
   "cell_type": "code",
   "execution_count": 34,
   "metadata": {},
   "outputs": [
    {
     "name": "stdout",
     "output_type": "stream",
     "text": [
      "user_id         0.11892\n",
      "timestamp       0.11892\n",
      "group           0.11892\n",
      "landing_page    0.11892\n",
      "converted       0.11892\n",
      "dtype: float64\n",
      "user_id         0.120399\n",
      "timestamp       0.120399\n",
      "group           0.120399\n",
      "landing_page    0.120399\n",
      "converted       0.120399\n",
      "dtype: float64\n"
     ]
    }
   ],
   "source": [
    "df_control_convert = df_control[df_control['converted'] == 1].count()\n",
    "df_control_length = df_control.count()\n",
    "df_control_converstion_rate = (df_control_convert/df_control_length)\n",
    "\n",
    "df_treat_convert = df_treat[df_treat['converted'] == 1].count()\n",
    "df_treat_length = df_treat.count()\n",
    "df_treat_converstion_rate = (df_treat_convert/df_treat_length)\n",
    "\n",
    "\n",
    "\n",
    "print(df_treat_converstion_rate)\n",
    "print(df_control_converstion_rate)\n"
   ]
  },
  {
   "cell_type": "code",
   "execution_count": 94,
   "metadata": {},
   "outputs": [
    {
     "data": {
      "text/plain": [
       "<matplotlib.axes._subplots.AxesSubplot at 0x16e3c500b48>"
      ]
     },
     "execution_count": 94,
     "metadata": {},
     "output_type": "execute_result"
    },
    {
     "data": {
      "image/png": "[encoded data removed]",
      "text/plain": [
       "<Figure size 1440x576 with 1 Axes>"
      ]
     },
     "metadata": {},
     "output_type": "display_data"
    }
   ],
   "source": [
    "groups = df.groupby(['group','landing_page','converted']).size()\n",
    "groups.plot.bar(figsize=(20,8))"
   ]
  },
  {
   "cell_type": "code",
   "execution_count": 60,
   "metadata": {},
   "outputs": [
    {
     "data": {
      "image/png": "[encoded data removed]",
      "text/plain": [
       "<Figure size 1152x576 with 1 Axes>"
      ]
     },
     "metadata": {},
     "output_type": "display_data"
    }
   ],
   "source": [
    "plt.style.use('ggplot')\n",
    "ax = ab_summary.groupby('group').sum()['converted'].plot.pie(figsize=(16,8),\n",
    "                                                             autopct='%1.0f%%',\n",
    "                                                             shadow=True,)\n",
    "ax.set_ylabel('')\n",
    "ax.set_title('Converstion Percentage for control and treatment groups')\n",
    "plt.show()\n",
    "                                                             "
   ]
  },
  {
   "cell_type": "code",
   "execution_count": 72,
   "metadata": {},
   "outputs": [
    {
     "data": {
      "text/html": [
       "<div>\n",
       "<style scoped>\n",
       "    .dataframe tbody tr th:only-of-type {\n",
       "        vertical-align: middle;\n",
       "    }\n",
       "\n",
       "    .dataframe tbody tr th {\n",
       "        vertical-align: top;\n",
       "    }\n",
       "\n",
       "    .dataframe thead tr th {\n",
       "        text-align: left;\n",
       "    }\n",
       "\n",
       "    .dataframe thead tr:last-of-type th {\n",
       "        text-align: right;\n",
       "    }\n",
       "</style>\n",
       "<table border=\"1\" class=\"dataframe\">\n",
       "  <thead>\n",
       "    <tr>\n",
       "      <th></th>\n",
       "      <th></th>\n",
       "      <th colspan=\"8\" halign=\"left\">user_id</th>\n",
       "    </tr>\n",
       "    <tr>\n",
       "      <th></th>\n",
       "      <th></th>\n",
       "      <th>count</th>\n",
       "      <th>mean</th>\n",
       "      <th>std</th>\n",
       "      <th>min</th>\n",
       "      <th>25%</th>\n",
       "      <th>50%</th>\n",
       "      <th>75%</th>\n",
       "      <th>max</th>\n",
       "    </tr>\n",
       "    <tr>\n",
       "      <th>group</th>\n",
       "      <th>converted</th>\n",
       "      <th></th>\n",
       "      <th></th>\n",
       "      <th></th>\n",
       "      <th></th>\n",
       "      <th></th>\n",
       "      <th></th>\n",
       "      <th></th>\n",
       "      <th></th>\n",
       "    </tr>\n",
       "  </thead>\n",
       "  <tbody>\n",
       "    <tr>\n",
       "      <td rowspan=\"2\" valign=\"top\">control</td>\n",
       "      <td>0</td>\n",
       "      <td>129479.0</td>\n",
       "      <td>788221.231466</td>\n",
       "      <td>91260.088201</td>\n",
       "      <td>630002.0</td>\n",
       "      <td>709424.00</td>\n",
       "      <td>788266.0</td>\n",
       "      <td>867161.5</td>\n",
       "      <td>945998.0</td>\n",
       "    </tr>\n",
       "    <tr>\n",
       "      <td>1</td>\n",
       "      <td>17723.0</td>\n",
       "      <td>787406.164193</td>\n",
       "      <td>91415.572020</td>\n",
       "      <td>630009.0</td>\n",
       "      <td>708245.50</td>\n",
       "      <td>786417.0</td>\n",
       "      <td>867004.5</td>\n",
       "      <td>945991.0</td>\n",
       "    </tr>\n",
       "    <tr>\n",
       "      <td rowspan=\"2\" valign=\"top\">treatment</td>\n",
       "      <td>0</td>\n",
       "      <td>129762.0</td>\n",
       "      <td>787613.437008</td>\n",
       "      <td>91109.957707</td>\n",
       "      <td>630000.0</td>\n",
       "      <td>708480.50</td>\n",
       "      <td>787700.0</td>\n",
       "      <td>866450.5</td>\n",
       "      <td>945999.0</td>\n",
       "    </tr>\n",
       "    <tr>\n",
       "      <td>1</td>\n",
       "      <td>17514.0</td>\n",
       "      <td>789394.382380</td>\n",
       "      <td>91373.083134</td>\n",
       "      <td>630001.0</td>\n",
       "      <td>710560.75</td>\n",
       "      <td>789145.5</td>\n",
       "      <td>868454.5</td>\n",
       "      <td>945989.0</td>\n",
       "    </tr>\n",
       "  </tbody>\n",
       "</table>\n",
       "</div>"
      ],
      "text/plain": [
       "                      user_id                                         \\\n",
       "                        count           mean           std       min   \n",
       "group     converted                                                    \n",
       "control   0          129479.0  788221.231466  91260.088201  630002.0   \n",
       "          1           17723.0  787406.164193  91415.572020  630009.0   \n",
       "treatment 0          129762.0  787613.437008  91109.957707  630000.0   \n",
       "          1           17514.0  789394.382380  91373.083134  630001.0   \n",
       "\n",
       "                                                              \n",
       "                           25%       50%       75%       max  \n",
       "group     converted                                           \n",
       "control   0          709424.00  788266.0  867161.5  945998.0  \n",
       "          1          708245.50  786417.0  867004.5  945991.0  \n",
       "treatment 0          708480.50  787700.0  866450.5  945999.0  \n",
       "          1          710560.75  789145.5  868454.5  945989.0  "
      ]
     },
     "execution_count": 72,
     "metadata": {},
     "output_type": "execute_result"
    }
   ],
   "source": [
    "df.groupby(['group', 'converted']).describe()"
   ]
  },
  {
   "cell_type": "code",
   "execution_count": 79,
   "metadata": {},
   "outputs": [
    {
     "name": "stdout",
     "output_type": "stream",
     "text": [
      "                 user_id\n",
      "converted               \n",
      "0          787917.002488\n",
      "1          788394.376962\n",
      "                          user_id\n",
      "group     converted              \n",
      "control   0          91260.088201\n",
      "          1          91415.572020\n",
      "treatment 0          91109.957707\n",
      "          1          91373.083134\n",
      "                     user_id  timestamp  landing_page\n",
      "group     converted                                  \n",
      "control   0           129479     129479        129479\n",
      "          1            17723      17723         17723\n",
      "treatment 0           129762     129762        129762\n",
      "          1            17514      17514         17514\n"
     ]
    }
   ],
   "source": [
    "mean_control = df.groupby(['mean','converted']).mean()\n",
    "std_control = df.groupby(['group', 'converted']).std()\n",
    "count_control = df.groupby(['group', 'converted']).count()\n",
    "\n",
    "print(mean_control)\n",
    "print(std_control)\n",
    "print(count_control)"
   ]
  },
  {
   "cell_type": "code",
   "execution_count": 88,
   "metadata": {},
   "outputs": [
    {
     "name": "stdout",
     "output_type": "stream",
     "text": [
      "t-value = 1.2369191070650907\n",
      "p-value= 0.21611810218868657\n"
     ]
    }
   ],
   "source": [
    "from scipy import stats\n",
    "\n",
    "t, p = stats.ttest_ind(df.loc[df['group'] == 'control', 'converted'].values,\n",
    "                       df.loc[df['group'] == 'treatment', 'converted'].values,\n",
    "                       equal_var=False)\n",
    "\n",
    "print('t-value = {}'.format(t))\n",
    "print('p-value= {}'.format(p))"
   ]
  },
  {
   "cell_type": "code",
   "execution_count": 89,
   "metadata": {},
   "outputs": [
    {
     "name": "stdout",
     "output_type": "stream",
     "text": [
      "0.2735425174354186\n"
     ]
    }
   ],
   "source": [
    "\n",
    "# 1) Split groups into two separate DataFrames\n",
    "a = df[df['group'] == 'control']\n",
    "b = df[df['group'] == 'treatment']\n",
    "\n",
    "# 2) A-click, A-noclick, B-click, B-noclick\n",
    "a_click = a.converted.sum()\n",
    "a_noclick = a.converted.size - b.converted.sum()\n",
    "b_click = b.converted.sum()\n",
    "b_noclick = b.converted.size - b.converted.sum()\n",
    "\n",
    "# 3) Create np array\n",
    "T = np.array([[a_click, a_noclick], [b_click, b_noclick]])\n",
    "\n",
    "import scipy\n",
    "from scipy import stats\n",
    "\n",
    "print(scipy.stats.chi2_contingency(T,correction=False)[1])"
   ]
  }
 ],
 "metadata": {
  "kernelspec": {
   "display_name": "Python 3",
   "language": "python",
   "name": "python3"
  },
  "language_info": {
   "codemirror_mode": {
    "name": "ipython",
    "version": 3
   },
   "file_extension": ".py",
   "mimetype": "text/x-python",
   "name": "python",
   "nbconvert_exporter": "python",
   "pygments_lexer": "ipython3",
   "version": "3.7.4"
  }
 },
 "nbformat": 4,
 "nbformat_minor": 2
}
